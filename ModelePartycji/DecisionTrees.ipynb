{
 "cells": [
  {
   "cell_type": "markdown",
   "metadata": {},
   "source": [
    "# Modele partycjonujace\n",
    "\n",
    "Jak działają modele partycjonujące?\n",
    "\n",
    "- na początku wszystkie przypadki treningowe trafiają do jednego zbioru\n",
    "- ocenianiny jest wpływ poszczególnych zmiennych wejściowych na podział tego zbioru względem zmiennej wyjściowej\n",
    "- zbiór jest dzielony na podzbiory, aby każdy z tych podzbiorów zawierał jak najwięcej takich samych przypadków o takich samych wartościach zmiennej docelowej.\n",
    "- dla każdego podzbioru następuje ponowna ocena zmiennych i ich dalszy podział"
   ]
  },
  {
   "cell_type": "markdown",
   "metadata": {},
   "source": [
    "### Zalety modelów partycji\n",
    "\n",
    "- są łatwe w interpretacji\n",
    "- nie wymagają przyjęcia jakichkolwiek założeń dotyczących rozkładu danych i zależności między zmiennymi\n",
    "- są niewrażliwe na wartości odstające"
   ]
  },
  {
   "cell_type": "code",
   "execution_count": 2,
   "metadata": {},
   "outputs": [],
   "source": [
    "import pandas as pd\n",
    "import numpy as np\n",
    "import matplotlib.pyplot as plt\n",
    "from scipy import stats"
   ]
  },
  {
   "cell_type": "code",
   "execution_count": 3,
   "metadata": {},
   "outputs": [],
   "source": [
    "data = pd.read_csv(\"agaricus-lepiota.csv\", delimiter=\";\")"
   ]
  },
  {
   "cell_type": "markdown",
   "metadata": {},
   "source": [
    "Zasada działania modeli partycjonującyjch polega na podziale przypadków na podzbiory na podstawie tego, w jaki sposób ten podział wpłynie na stany zmiennej wyjściowej. Dlatego na początku należy sprawdzić rozkład zmiennej wyjściowej."
   ]
  },
  {
   "cell_type": "code",
   "execution_count": 4,
   "metadata": {},
   "outputs": [
    {
     "data": {
      "text/plain": [
       "e    51.797144\n",
       "p    48.202856\n",
       "Name: 1, dtype: float64"
      ]
     },
     "execution_count": 4,
     "metadata": {},
     "output_type": "execute_result"
    }
   ],
   "source": [
    "data[\"1\"].value_counts(normalize=True) * 100"
   ]
  },
  {
   "cell_type": "markdown",
   "metadata": {},
   "source": [
    "### Analiza naszych danych\n",
    "\n",
    "Poniżej pokazuje kilka cech które mogą mieć duże znaczenie na to czy grzyb jest jadalny czy też trujący."
   ]
  },
  {
   "cell_type": "markdown",
   "metadata": {},
   "source": [
    "black=k, brown=n, buff=b, chocolate=h, gray=g, green=r, orange=o, pink=p, purple=u, red=e, white=w, yellow=y\n",
    "\n",
    "Poniżej pokazany rozkład koloru skrzeli grzyba. Możemy wnioskować że jeżeli grzyb ma czerwony lub pomarańczowy kolor skrzeli to jest jadalny."
   ]
  },
  {
   "cell_type": "code",
   "execution_count": 5,
   "metadata": {},
   "outputs": [
    {
     "data": {
      "text/html": [
       "<div>\n",
       "<style scoped>\n",
       "    .dataframe tbody tr th:only-of-type {\n",
       "        vertical-align: middle;\n",
       "    }\n",
       "\n",
       "    .dataframe tbody tr th {\n",
       "        vertical-align: top;\n",
       "    }\n",
       "\n",
       "    .dataframe thead th {\n",
       "        text-align: right;\n",
       "    }\n",
       "</style>\n",
       "<table border=\"1\" class=\"dataframe\">\n",
       "  <thead>\n",
       "    <tr style=\"text-align: right;\">\n",
       "      <th></th>\n",
       "      <th>poisonus</th>\n",
       "      <th>edible</th>\n",
       "    </tr>\n",
       "  </thead>\n",
       "  <tbody>\n",
       "    <tr>\n",
       "      <th>b</th>\n",
       "      <td>1728.0</td>\n",
       "      <td>0.0</td>\n",
       "    </tr>\n",
       "    <tr>\n",
       "      <th>p</th>\n",
       "      <td>640.0</td>\n",
       "      <td>852.0</td>\n",
       "    </tr>\n",
       "    <tr>\n",
       "      <th>h</th>\n",
       "      <td>528.0</td>\n",
       "      <td>204.0</td>\n",
       "    </tr>\n",
       "    <tr>\n",
       "      <th>g</th>\n",
       "      <td>504.0</td>\n",
       "      <td>248.0</td>\n",
       "    </tr>\n",
       "    <tr>\n",
       "      <th>w</th>\n",
       "      <td>246.0</td>\n",
       "      <td>956.0</td>\n",
       "    </tr>\n",
       "    <tr>\n",
       "      <th>n</th>\n",
       "      <td>112.0</td>\n",
       "      <td>936.0</td>\n",
       "    </tr>\n",
       "    <tr>\n",
       "      <th>k</th>\n",
       "      <td>64.0</td>\n",
       "      <td>344.0</td>\n",
       "    </tr>\n",
       "    <tr>\n",
       "      <th>u</th>\n",
       "      <td>48.0</td>\n",
       "      <td>444.0</td>\n",
       "    </tr>\n",
       "    <tr>\n",
       "      <th>r</th>\n",
       "      <td>24.0</td>\n",
       "      <td>0.0</td>\n",
       "    </tr>\n",
       "    <tr>\n",
       "      <th>y</th>\n",
       "      <td>22.0</td>\n",
       "      <td>64.0</td>\n",
       "    </tr>\n",
       "    <tr>\n",
       "      <th>e</th>\n",
       "      <td>0.0</td>\n",
       "      <td>96.0</td>\n",
       "    </tr>\n",
       "    <tr>\n",
       "      <th>o</th>\n",
       "      <td>0.0</td>\n",
       "      <td>64.0</td>\n",
       "    </tr>\n",
       "  </tbody>\n",
       "</table>\n",
       "</div>"
      ],
      "text/plain": [
       "   poisonus  edible\n",
       "b    1728.0     0.0\n",
       "p     640.0   852.0\n",
       "h     528.0   204.0\n",
       "g     504.0   248.0\n",
       "w     246.0   956.0\n",
       "n     112.0   936.0\n",
       "k      64.0   344.0\n",
       "u      48.0   444.0\n",
       "r      24.0     0.0\n",
       "y      22.0    64.0\n",
       "e       0.0    96.0\n",
       "o       0.0    64.0"
      ]
     },
     "execution_count": 5,
     "metadata": {},
     "output_type": "execute_result"
    }
   ],
   "source": [
    "df1 = data[data[\"1\"] == \"p\"][\"10\"].value_counts().rename(\"poisonus\")\n",
    "df2 = data[data[\"1\"] == \"e\"][\"10\"].value_counts().rename(\"edible\")\n",
    "pd.concat([df1, df2], axis=1).replace(np.nan, 0)"
   ]
  },
  {
   "cell_type": "markdown",
   "metadata": {},
   "source": [
    "stalk-color-above-ring:   brown=n,buff=b,cinnamon=c,gray=g,orange=o,\n",
    "                                pink=p,red=e,white=w,yellow=y\n",
    "\n",
    "Kolejna cecha która może być dość istotna to kolor łodygi nad pierścieniem."
   ]
  },
  {
   "cell_type": "code",
   "execution_count": 6,
   "metadata": {},
   "outputs": [
    {
     "data": {
      "text/html": [
       "<div>\n",
       "<style scoped>\n",
       "    .dataframe tbody tr th:only-of-type {\n",
       "        vertical-align: middle;\n",
       "    }\n",
       "\n",
       "    .dataframe tbody tr th {\n",
       "        vertical-align: top;\n",
       "    }\n",
       "\n",
       "    .dataframe thead th {\n",
       "        text-align: right;\n",
       "    }\n",
       "</style>\n",
       "<table border=\"1\" class=\"dataframe\">\n",
       "  <thead>\n",
       "    <tr style=\"text-align: right;\">\n",
       "      <th></th>\n",
       "      <th>poisonus</th>\n",
       "      <th>edible</th>\n",
       "    </tr>\n",
       "  </thead>\n",
       "  <tbody>\n",
       "    <tr>\n",
       "      <th>w</th>\n",
       "      <td>1712.0</td>\n",
       "      <td>2752.0</td>\n",
       "    </tr>\n",
       "    <tr>\n",
       "      <th>p</th>\n",
       "      <td>1296.0</td>\n",
       "      <td>576.0</td>\n",
       "    </tr>\n",
       "    <tr>\n",
       "      <th>n</th>\n",
       "      <td>432.0</td>\n",
       "      <td>16.0</td>\n",
       "    </tr>\n",
       "    <tr>\n",
       "      <th>b</th>\n",
       "      <td>432.0</td>\n",
       "      <td>0.0</td>\n",
       "    </tr>\n",
       "    <tr>\n",
       "      <th>c</th>\n",
       "      <td>36.0</td>\n",
       "      <td>0.0</td>\n",
       "    </tr>\n",
       "    <tr>\n",
       "      <th>y</th>\n",
       "      <td>8.0</td>\n",
       "      <td>0.0</td>\n",
       "    </tr>\n",
       "    <tr>\n",
       "      <th>g</th>\n",
       "      <td>0.0</td>\n",
       "      <td>576.0</td>\n",
       "    </tr>\n",
       "    <tr>\n",
       "      <th>o</th>\n",
       "      <td>0.0</td>\n",
       "      <td>192.0</td>\n",
       "    </tr>\n",
       "    <tr>\n",
       "      <th>e</th>\n",
       "      <td>0.0</td>\n",
       "      <td>96.0</td>\n",
       "    </tr>\n",
       "  </tbody>\n",
       "</table>\n",
       "</div>"
      ],
      "text/plain": [
       "   poisonus  edible\n",
       "w    1712.0  2752.0\n",
       "p    1296.0   576.0\n",
       "n     432.0    16.0\n",
       "b     432.0     0.0\n",
       "c      36.0     0.0\n",
       "y       8.0     0.0\n",
       "g       0.0   576.0\n",
       "o       0.0   192.0\n",
       "e       0.0    96.0"
      ]
     },
     "execution_count": 6,
     "metadata": {},
     "output_type": "execute_result"
    }
   ],
   "source": [
    "df1 = data[data[\"1\"] == \"p\"][\"15\"].value_counts().rename(\"poisonus\")\n",
    "df2 = data[data[\"1\"] == \"e\"][\"15\"].value_counts().rename(\"edible\")\n",
    "pd.concat([df1, df2], axis=1).replace(np.nan, 0)"
   ]
  },
  {
   "cell_type": "markdown",
   "metadata": {},
   "source": [
    "Im więkrza jest różnica między wykresami tym dana cecha bardziej wływa czy grzyb jest jadalny czy trujący."
   ]
  },
  {
   "cell_type": "code",
   "execution_count": 7,
   "metadata": {},
   "outputs": [
    {
     "data": {
      "text/plain": [
       "[<matplotlib.lines.Line2D at 0x27a642e29d0>,\n",
       " <matplotlib.lines.Line2D at 0x27a64303a00>]"
      ]
     },
     "execution_count": 7,
     "metadata": {},
     "output_type": "execute_result"
    },
    {
     "data": {
      "image/png": "[encoded data removed]",
      "text/plain": [
       "<Figure size 720x360 with 1 Axes>"
      ]
     },
     "metadata": {
      "needs_background": "light"
     },
     "output_type": "display_data"
    }
   ],
   "source": [
    "fig, ax = plt.subplots(1, 1, figsize=(10, 5))\n",
    "\n",
    "df1 = data[data[\"1\"] == \"p\"][\"6\"].value_counts().rename(\"poisonus\")\n",
    "df2 = data[data[\"1\"] == \"e\"][\"6\"].value_counts().rename(\"edible\")\n",
    "odor = pd.concat([df1, df2], axis=1).replace(np.nan, 0)\n",
    "\n",
    "x = np.linspace(0, 10, len(odor[\"poisonus\"]))\n",
    "ax.plot(x, odor[\"poisonus\"], x, odor[\"edible\"])"
   ]
  },
  {
   "cell_type": "markdown",
   "metadata": {},
   "source": [
    "### Przeprowadzamy test czy zmienna wejściowa (cecha grzyba) jest zależna od zmiennej wyjściowej (czy grzyb jest jadalny czy nie)\n",
    "\n",
    "Dla sprawdzenia zależności między cechami grzybów a ich jadalnością możemy użyć testu zgodności chi-kwadrat. Polega on na porównaniu wartości zmierzonej (występowania jadalnych i trujących grzybów o danej cesze) z wartością oczekiwaną.\n",
    "Następnie testem Pearsona sprawdzimy czy zależności między komórkami tabeli częstości jest statystycznie istotna.\n",
    "Hipoteza zerowa zakłada ich niezależność, hipoteza alternatywna zakłada że komórki tabelo częstości zależą od siebie.\n"
   ]
  },
  {
   "cell_type": "markdown",
   "metadata": {},
   "source": [
    "Wartości statystyczne należy obliczyć ze wzoru:\n",
    "\n",
    "$$e_{ij} = \\frac{r_i \\times c_j}{t}$$\n",
    "\n",
    "gdzie,\n",
    "$r_i$ - to suma w i-tym wierszu\n",
    "$c_j$ - to suma w j-tej kolumnie\n",
    "$t$ - suma wszystkich elementów"
   ]
  },
  {
   "cell_type": "code",
   "execution_count": 8,
   "metadata": {},
   "outputs": [
    {
     "data": {
      "text/plain": [
       "array([[1041.1816839 ,  277.64844904,  277.64844904,  123.39931068,\n",
       "          92.54948301, 1700.59675037,   17.35302806,  192.81142294,\n",
       "         192.81142294],\n",
       "       [1118.8183161 ,  298.35155096,  298.35155096,  132.60068932,\n",
       "          99.45051699, 1827.40324963,   18.64697194,  207.18857706,\n",
       "         207.18857706]])"
      ]
     },
     "execution_count": 8,
     "metadata": {},
     "output_type": "execute_result"
    }
   ],
   "source": [
    "myArray = np.array(pd.concat([df1, df2], axis=1).replace(np.nan, 0)).T\n",
    "\n",
    "# Wyznaczamy tabele z wartościami oczekiwanymi\n",
    "colSum = myArray.sum(axis=0) # Suma po kolumnach\n",
    "rowSum = myArray.sum(axis=1) # Suma po wierszach\n",
    "totalSum = myArray.sum() # Suma wszystkich komórek\n",
    "\n",
    "eTable = np.zeros(myArray.shape)\n",
    "rows, cols = eTable.shape\n",
    "\n",
    "for i in range(rows):\n",
    "    for j in range(cols):\n",
    "        eTable[i][j] = rowSum[i] * colSum[j] / totalSum\n",
    "\n",
    "eTable"
   ]
  },
  {
   "cell_type": "markdown",
   "metadata": {},
   "source": [
    "Znając tabelę wartości oczekiwanej możemy obliczyć statystykę chi-kwadrat. Można ją policzyć ze wzoru:\n",
    "\n",
    "$$X^2 = \\sum \\frac{(O - E)^2}{E}$$\n",
    "\n",
    "gdzie,\n",
    "$E$ - wartość oczekiwana\n",
    "$O$ - wartość w oryginalnej tabeli"
   ]
  },
  {
   "cell_type": "code",
   "execution_count": 9,
   "metadata": {},
   "outputs": [
    {
     "data": {
      "text/plain": [
       "7659.726740165338"
      ]
     },
     "execution_count": 9,
     "metadata": {},
     "output_type": "execute_result"
    }
   ],
   "source": [
    "chisq_test = ((eTable - myArray)**2/eTable).sum()\n",
    "chisq_test"
   ]
  },
  {
   "cell_type": "markdown",
   "metadata": {},
   "source": [
    "Obliczoną wartość należy porównać z wartością z tablic statystycznych dla stopnia swobody obliczonego jako\n",
    "\n",
    "$$df = (n_{rows} - 1) \\times (n_{cols} - 1)$$\n",
    "\n",
    "Jeżeli wartość odczytana jest mniejsza od testu chi-kwadrat to zmienne są zależne."
   ]
  },
  {
   "cell_type": "code",
   "execution_count": 10,
   "metadata": {},
   "outputs": [
    {
     "data": {
      "text/plain": [
       "2.732636793499662"
      ]
     },
     "execution_count": 10,
     "metadata": {},
     "output_type": "execute_result"
    }
   ],
   "source": [
    "df = (rows - 1) * (cols - 1)\n",
    "stats.chi2.ppf(0.05, df=8) # Wybieramy stopień istotności 0.05"
   ]
  },
  {
   "cell_type": "markdown",
   "metadata": {},
   "source": [
    "## Ogólna idea drzew decyzyjnych\n",
    "\n",
    "- Jeżeli zmienna jest numeryczna, zostaje ona poddana dyskretyzacji\n",
    "- Ze zmiennych wejściowych wybierana jest ta, według której podział zminimalizuje ilość inforamcji potrzebnej do zaklasyfikowania przypadków względem zmiennej wyjściowej do otrzymanych w ten sposób podzbiorów.\n",
    "- podzbiory są tworzone dla wszystkich stanów wybranej zmiennej lub metodą binarną, tak aby każdy podzbiór był maksymalnie jednorodny względem zmiennej wyjściowej od pozostałych podzbiorów.\n",
    "- budowane są poddrzewa, których danymi treningowymi są otrzymane w poprzednim kroku podzbiory; jeżeli stosowna jest metoda wstępnego przycinania, poddrzewa, których podzbiory liczą zbyt mało przypadków lub dla których rozkład klas jest za mało wyraźny, są usuwane.\n",
    "\n",
    "Kroki są powtarzane dla każdego poddrzewa, aż do wystąpienia jednej z sytuacji:\n",
    "\n",
    "- wyczerpania przypadków w zbiorze treningowym\n",
    "- przypisania wszystkich przypadków do jednej z klas\n",
    "- przekroczenia zadanego czasu lub zadanej, maksymalnej wielkości drzew.\n",
    "\n",
    "Budowanie drzewa decyzyjnego zaczyna się od znalezienia zmiennej, której podział wyznaczy korzeń drzewa. Do jej znalezienia można użyć różnych miar, na przykład entropii krzyżowej (cross entropy), prawdopodobieństwa Bayesa, zysku informacyjnego lub współczynnika Giniego. Wszystkie one wywodzą się z pojęcia entropii.\n",
    "\n",
    "<img src=\"drzewo.gif\"/>"
   ]
  },
  {
   "cell_type": "markdown",
   "metadata": {},
   "source": [
    "# Entropia\n",
    "\n",
    "Entropia jest miarą informacji. Przyjmuje ona maksimum, gdy prawdopodobieństwa wszystkich możliwych stanów są takie same, a minimum (0), prawdopodobieństwo jednego ze stanów wynosi 100%. Pokażemy to na przykładzie rzucania monetą. Pierwsza moneta będzie uczciwa, czyli przed rzutem prawdopodobieństwo, że wypadnie orzeł będzie takie same jak reszka. Przypuśćmy, że w serii 10 rzutów 6 razy wypadł orzeł, a 4 razy reszka. Entropia tej zmiennej jest duża, bliska maksymalnej."
   ]
  },
  {
   "cell_type": "markdown",
   "metadata": {},
   "source": [
    "Za drugim razem użyjemy fałszywej monety. Ponieważ ta moneta zawsze wypada orłem do góry to entropia jest minimalna."
   ]
  },
  {
   "cell_type": "markdown",
   "metadata": {},
   "source": [
    "Teraz policzymy entropię dla naszego zbioru. Checemy znaleźść zmienną która ma najmniejszą miarę entropii czyli ma najbardziej spodziewany wynik."
   ]
  },
  {
   "cell_type": "code",
   "execution_count": 20,
   "metadata": {},
   "outputs": [
    {
     "data": {
      "text/plain": [
       "2.3194144457106733"
      ]
     },
     "execution_count": 20,
     "metadata": {},
     "output_type": "execute_result"
    }
   ],
   "source": [
    "stats.entropy(data[\"6\"].value_counts(), base=2)"
   ]
  },
  {
   "cell_type": "markdown",
   "metadata": {},
   "source": [
    "### Entropia, funkcja kosztu, optymalizacja uczenia maszynowego"
   ]
  },
  {
   "cell_type": "markdown",
   "metadata": {},
   "source": [
    "Weźmiemy teraz pod uwagę dwie zmienne. Ich zysk informacyjny to ilość informacji, jaką zdobędziemy o stanie zmiennej B, jeżeli poznamy stan zmiennej A.\n",
    "Innymi słowy zysk informacyjny jest ilością, jaka została usunięta z jednej zmiennej dzięki poznaniu wartości drugiej."
   ]
  },
  {
   "cell_type": "markdown",
   "metadata": {},
   "source": [
    "Entropia krzyżowa również pozwala zmierzyć redukcję entropii jednej zmiennej dzięki poznaniu wartości drugiej zmiennej tyle że wyraża ją w liczbie bitów potrzebnych do zakodowania zmiennych o nieznanych rozkładach."
   ]
  },
  {
   "cell_type": "markdown",
   "metadata": {},
   "source": [
    "Zauważmy że funkcja kosztu jest używana do oceny klasyfikacji wszystkich przykładów treningowych. Wyniki oceny poszczególnych przypadków się uśrednia. Uśredniając wyniki funkcji straty 0-1, otrzymamy funkcję, której wykres wygląda jak ramiona trójkąta - jej maksimum odpowiada najmniejszemu uporządkowaniu i zmniejsza się liniowo wraz ze zwiększaniem się prawdopodobieństw stanów 0 i 1. Natomiast pozostałe funkcje kosztu są funkcjami wklęsłymi, czyli łuk ich wykresów znajduje się powyżej cięciwy wyznaczonej wykresem funkcji straty 0-1."
   ]
  },
  {
   "cell_type": "markdown",
   "metadata": {},
   "source": [
    "Optymalizacja procesu uczenia daje najlepsze wyniki dla ciągłych, różniczkowalnych i wypukłych funkcji kosztu."
   ]
  },
  {
   "cell_type": "markdown",
   "metadata": {},
   "source": [
    "### Konstrukcja drzew decyzyjnych"
   ]
  },
  {
   "cell_type": "markdown",
   "metadata": {},
   "source": [
    "Podział zmiennej może być zupełny lub binarny, na dwa podzbiory. Powyższe metody podziału nie mają zastosowania dla zmiennych numerycznych. Dlatego ich wartości są dynamicznie dzielone na równe podziały, oddzielenie dla każdego węzła drzewa decyzyjnego. Następnie sąsiednie przedziały są łączone, o ile takie połączenie daje możliwość lepszego podzielenia przypadków. Ten proces jest powtarzany aż do osiągnięcia przedziałów najlepiej nadających się do podzielenia przypadków w danym węźle drzewa decyzyjnego."
   ]
  },
  {
   "cell_type": "markdown",
   "metadata": {},
   "source": []
  }
 ],
 "metadata": {
  "interpreter": {
   "hash": "9885dbb99f57d2091a4d8e1cc35c4187e0a1b27c2876a3bb2e7b45f7e5e00013"
  },
  "kernelspec": {
   "display_name": "Python 3.9.6 ('venv': venv)",
   "language": "python",
   "name": "python3"
  },
  "language_info": {
   "codemirror_mode": {
    "name": "ipython",
    "version": 3
   },
   "file_extension": ".py",
   "mimetype": "text/x-python",
   "name": "python",
   "nbconvert_exporter": "python",
   "pygments_lexer": "ipython3",
   "version": "3.9.7"
  },
  "orig_nbformat": 4
 },
 "nbformat": 4,
 "nbformat_minor": 2
}
