{
 "cells": [
  {
   "cell_type": "markdown",
   "metadata": {},
   "source": [
    "# Zrozumienie danych\n",
    "\n",
    "W uczeniu maszynowym najwazniejsze sa dane. Wazne jest aby gdy to mozliwe zwiekrzac ilosc danych oraz je wyczyscic. **Poznanie danych wymaga zrozumienia postawionego problemu.**"
   ]
  },
  {
   "cell_type": "markdown",
   "metadata": {},
   "source": [
    "Uzyskujemy dane osob z katastrofy titanica. Zmienne dziela sie na numeryczne oraz kategoryczne. Zmienne numeryczne dzieli sie na dyskrtne (te o skonczonym zbiorze wartosci) oraz ciagle (te o nieskonczonym zbiorze wartosci).\n",
    "\n",
    "\n",
    "Aby ocenic rodzaj zmiennych nalezy rozumiec jej znaczenie.\n",
    "\n",
    "- zmienna PassegerID jest zmienna numeryczna ciagla.\n",
    "- zmienna Survived jest zmienna numeryczna dyskretna (bool)\n",
    "- zmienna Pclass jest zmienna numeryczna dyskretna; powinna byc traktowana jako przodkowa zmienna kategoryczna.\n",
    "- zmienna name jest regularna zmienna kategoryczna.\n",
    "- zmienna sex"
   ]
  },
  {
   "cell_type": "markdown",
   "metadata": {},
   "source": [
    "# Zmienne numeryczne\n",
    "\n",
    "Rozklad wartosci zmiennych numerycznych opisuje dziesiec najwazniejszych statystyk opisowych:\n",
    "\n",
    "- miejsce najwiekrzej koncentracji wartosci opisuja miary tendencji centralnej: mediana, srednia arytmetyczna i dominanta\n",
    "- zroznicowanie wartosci opisuja miary rozproszenia (dyspersji): rozstep, rozstep cwiartkowy (odchylenie), wariancja, odchylenie standardowe i wspolczynnik zmiennosci.\n",
    "- porownanie ksztaltu rozkladu zmiennej z rozkladem normalnym umozliwiaja miary symetrii rozkladu: skosnosc i kurtoza\n",
    "\n",
    "\n",
    "### Miary tendencji centralnej\n",
    "\n",
    "Centralny punkt dystrybucji wartosci czesto opisuje sie za pomoca sredniej arytmetycznej. Aby ja obliczyc, nalezy zsumowac wszystkie wartosci zmiennej i otrzymany wynik podzielic przez liczbe przykladow.\n",
    "\n",
    "Druga miara tendencji centralnej jest dominanta. Wskazuje ona na najczesciej wystepujaca wartosc, lub wartosci, zmiennej. Zmienne o jednej dominancie maja rozklad jednomodalny. Zmienne o dwoch dominantach maja rozklad dwumodalny.\n",
    "\n",
    "Trzecia miara tendencji centralnej jest mediana. Dzieli ona uszeregowany zbior wartosci na pol, czyli ponizej i powyzej mediany znajduje sie 50% wszystkich wartosci. Mediane oznacza sie symbolem $Me$. Jezeli liczba przykladow $n$ jest nieparzysta:\n",
    "$$Me = \\frac{x_n + 1}{2} $$\n",
    "\n",
    "czyli jest rowna wartosci przykladu bedacego posrodku uporzadkowanej listy. Jezeli jest parzysta to:\n",
    "$$Me = \\frac{1}{2}(x_{n/2} + x_{\\frac{n+1}{2}})$$\n",
    "\n",
    "Mediana jest tez nazywana drugim kwartylem. Uzywa sie rowniez pierwszego oraz trzeciego kwartyla, ktore dziela zbior na 25% i 75%.\n",
    "\n",
    "### Miary rozproszenia\n",
    "\n",
    "Miary tendencji centralnej pozwalaja wyznaczyc punkty najwiekrzej koncentracji. Miary rozproszenia pozwalaja okreslic jak bardzo wartosci zmiennej sa rozrzucone wokol tych punktow.\n",
    "\n",
    "Najprostsza miara rozproszenia jest rozstep czyli roznica miedzy najwiekrza a najmniejsza wartoscia. Oznacza sie symbolem:\n",
    "\n",
    "$$R = x_{max} - x_{min}$$"
   ]
  },
  {
   "cell_type": "markdown",
   "metadata": {},
   "source": [
    "# Rozklad normalny"
   ]
  },
  {
   "cell_type": "code",
   "execution_count": 3,
   "metadata": {},
   "outputs": [
    {
     "data": {
      "text/plain": [
       "[<matplotlib.lines.Line2D at 0x7f78492ae310>]"
      ]
     },
     "execution_count": 3,
     "metadata": {},
     "output_type": "execute_result"
    },
    {
     "data": {
      "image/png": "[encoded data removed]",
      "text/plain": [
       "<Figure size 432x288 with 1 Axes>"
      ]
     },
     "metadata": {
      "needs_background": "light"
     },
     "output_type": "display_data"
    }
   ],
   "source": [
    "import numpy as np\n",
    "import matplotlib.pyplot as plt\n",
    "\n",
    "def normal(x, sigma, me):\n",
    "    return (1/(sigma * np.sqrt(2*np.pi))) * np.e ** (-0.5 * ((x-me)/sigma)**2 )\n",
    "\n",
    "x = np.linspace(-5, 5, 1000)\n",
    "\n",
    "plt.plot(x, normal(x, 1, 0))"
   ]
  },
  {
   "cell_type": "markdown",
   "metadata": {},
   "source": [
    "Odleglosc miedzy pierwszy a trzecim kwartylem to **rozstep cwiratkowy**.\n",
    "\n",
    "\n",
    "Najczesciej uzywanymi miarami rozproszenia sa wariancja i odchylenie standardowe. Obie sa obliczone na podstawie odchylen. Odchylenie to roznica miedzy wartoscia przykladu a wartoscia srednia. **Wariancja** to suma kwadratow odchylen wynikow od sredniej podzielona przez liczbe wynikow minus jeden. Wariancje oznaczamy symbolem:\n",
    "\n",
    "$$\\sigma^2 = \\frac{\\sum (x_i - \\bar{x})}{n-1}$$\n",
    "\n",
    "Poniewaz wartosci wariancji sa wyrazone w jednostkach kwadratowych, czesciej uzywana miara rozproszenia jest odchylenie standardowe, czyli pierwiastek kwadratowy z wariancji\n",
    "\n",
    "$$\\sigma = \\sqrt{\\sigma^2} $$\n",
    "\n",
    "Dzielac odchylenie standardowe przez srednia arytmetyczna i mnozac otrzymany wynik przez 100, otrzymamy wspolczynnik zmiennosci:\n",
    "\n",
    "$$Vs = \\frac{\\sigma}{X} * 100\\% $$"
   ]
  },
  {
   "cell_type": "markdown",
   "metadata": {},
   "source": [
    "## Miary symetrii rozkladu\n",
    "\n",
    "### Skosnosc\n",
    "\n",
    "Wiele zmiennych ma rozklad zblirzony do normalnego lecz rzadko jest on idealnie normalny. Porownojac srednia z dominanta mozemy z pewna dokladnoscia okreslic asymetrie rozkladu wartosci. Miara tego odchylenia jest skosnosc. Skosnosc oznaczamy symbolem:\n",
    "\n",
    "$$W_s = \\overline{x} - D$$\n",
    "\n",
    "Jezeli srednia arytmetyczna jest wiekrza od dominanty, to wartosci powyzej sredniej wystepuja czesciej niz wynikaloby to z rozkladu normalnego, mamy wtedy doczynienia z rozkladem prawoskosnym. W przeciwnym wypadku mamy do czynienia z lewoskosnym.\n",
    "\n",
    "**Wspolczynnik skosnosci oprocz kierunku asymetrii wskazuje jego sile**, wartosci blizsze zeru maja slabsza asymetrie.\n",
    "\n",
    "$$A_s = \\frac{W_S}{S} $$\n",
    "\n",
    "### Kurtoza\n",
    "\n",
    "W rozkladzie normalnym wartosc tej miary, mierzacej poziom zageszczenia wokol wartosci centralnej, wynosi 0.\n",
    "\n",
    "$$\\beta_2 = \\frac{u_4}{s^4} $$\n",
    "\n",
    "gdzie $u_4$ jest czwartym momentem centralnym. Jezeli kurtoza jest mniejsza od 0 to mamy do czynienia z rozkladem splaszczonym, a wiec wartosci zmiennej beda bardziej zroznicowane. Jezeli jest wiekrza od zera, to mamy do czynienia z rozkladem wysmuklym, czyli zmienna czesciej bedzie przyjmowala wartosci zblizone do sredniej."
   ]
  },
  {
   "cell_type": "markdown",
   "metadata": {},
   "source": [
    "Za odstajace wartosci (**outliners**) przyjmuje sie wartosci oddalone o wiecej niz dwukrotnosc rozstepu cwiartokwego od sredniej arytmetycznej. **Miara tendencji centralnej zalezna od wartosci odstajacych jest srednia, a miara rozproszenia rozstep i odchylenie standardowe.**"
   ]
  },
  {
   "cell_type": "markdown",
   "metadata": {},
   "source": [
    "# Rozklad normalny\n",
    "\n",
    "Jezeli odchylenie standardowe jest rowne 1 oraz wartosc srednia jest rowna 0 to mamy do czynienia z standardowym rozkladem normalnym. Mozemy zastosowac proces standaryzacji zmiennej czyli odjecie warotsci sredniej oraz podzielenia przez odchylenie standardowe.\n",
    "\n",
    "**Ustandaryzowana zmienna mozna opisac statystyka z-score**, mozna ja interpretowac jako miare odstawania - im wiekrze Z-score, tym bardziej odstajaca wartosc. Czyli wartosci o wiekrzym Z-score sa bardziej nietypowe.\n",
    "\n",
    "Sprawdzajac te wartosc w tabeli rozkladu zmiennej losowej lub uzywajac odpowiedniej funkcji otrzymamy kwantyl rzedu jej wystapienia."
   ]
  },
  {
   "cell_type": "code",
   "execution_count": 4,
   "metadata": {},
   "outputs": [
    {
     "name": "stdout",
     "output_type": "stream",
     "text": [
      "Z-score dla wartosci z listy:  [-1.08987724  1.96846027 -0.33656745  0.39836892 -0.13613026 -0.80425424]\n",
      "Prawdopodobienstwo wystapienia 0.45 w naszym zbiorze:  0.32635522028791997\n"
     ]
    }
   ],
   "source": [
    "import scipy.stats as st\n",
    "\n",
    "data = np.array([0.45, 92, 23, 45, 29, 9])\n",
    "\n",
    "print(\"Z-score dla wartosci z listy: \", st.zscore(data))\n",
    "print(\"Prawdopodobienstwo wystapienia 0.45 w naszym zbiorze: \", 1 - st.norm.cdf(data[0]))"
   ]
  },
  {
   "cell_type": "markdown",
   "metadata": {},
   "source": [
    "### Jak sprawdzic normalnosc rozkladu zmiennej\n",
    "\n",
    "Duza czesc testow zaklada pewien rozklad zmiennych. Jezeli zmienna ma rozklad zblizony do normalnego, mozemy uzyc testow parametrycznych. Uzywa sie do tego wykresu kwantyl-kwantyl lub porownuje sie histogram zmiennej do rozkladu normalnego."
   ]
  },
  {
   "cell_type": "code",
   "execution_count": 5,
   "metadata": {},
   "outputs": [
    {
     "data": {
      "image/png": "[encoded data removed]",
      "text/plain": [
       "<Figure size 432x288 with 1 Axes>"
      ]
     },
     "metadata": {
      "needs_background": "light"
     },
     "output_type": "display_data"
    }
   ],
   "source": [
    "import statsmodels.api as sm\n",
    "\n",
    "sm.qqplot(data)\n",
    "plt.show()"
   ]
  },
  {
   "cell_type": "markdown",
   "metadata": {},
   "source": [
    "Normal distribution test"
   ]
  },
  {
   "cell_type": "code",
   "execution_count": 6,
   "metadata": {},
   "outputs": [
    {
     "ename": "AttributeError",
     "evalue": "'numpy.ndarray' object has no attribute 'dropna'",
     "output_type": "error",
     "traceback": [
      "\u001b[0;31m---------------------------------------------------------------------------\u001b[0m",
      "\u001b[0;31mAttributeError\u001b[0m                            Traceback (most recent call last)",
      "\u001b[1;32m/Users/dominikmatracki/MyProjects/PracticalMachineLearning/DataUnderstanding/dataUnderstanding.ipynb Cell 14'\u001b[0m in \u001b[0;36m<cell line: 1>\u001b[0;34m()\u001b[0m\n\u001b[0;32m----> <a href='vscode-notebook-cell:/Users/dominikmatracki/MyProjects/PracticalMachineLearning/DataUnderstanding/dataUnderstanding.ipynb#ch0000013?line=0'>1</a>\u001b[0m data_no_missing \u001b[39m=\u001b[39m data\u001b[39m.\u001b[39;49mdropna()\n\u001b[1;32m      <a href='vscode-notebook-cell:/Users/dominikmatracki/MyProjects/PracticalMachineLearning/DataUnderstanding/dataUnderstanding.ipynb#ch0000013?line=1'>2</a>\u001b[0m stat, p \u001b[39m=\u001b[39m st\u001b[39m.\u001b[39mshapiro(data_no_missing)\n\u001b[1;32m      <a href='vscode-notebook-cell:/Users/dominikmatracki/MyProjects/PracticalMachineLearning/DataUnderstanding/dataUnderstanding.ipynb#ch0000013?line=3'>4</a>\u001b[0m alpha \u001b[39m=\u001b[39m \u001b[39m0.05\u001b[39m\n",
      "\u001b[0;31mAttributeError\u001b[0m: 'numpy.ndarray' object has no attribute 'dropna'"
     ]
    }
   ],
   "source": [
    "data_no_missing = data.dropna()\n",
    "stat, p = st.shapiro(data_no_missing)\n",
    "\n",
    "alpha = 0.05\n",
    "if p > alpha:\n",
    "    print(\"Sample looks Gaussian\")\n",
    "else:\n",
    "    print(\"Sample does not look Gaussian\")"
   ]
  },
  {
   "cell_type": "markdown",
   "metadata": {},
   "source": [
    "# Zmienne kategoryczne\n",
    "\n",
    "Rozklad zmiennych kategorycznych ocenia sie za pomoca tabel czestosci oraz histogramow. Tabel czestosci zawiera zliczone czestoci wystepowania poszczegolnych stanow zmiennej, na przyklad liczbe pasazerow, ktorzy zaokretowali sie w poszczegolnych portach. Pozwalaja tez sprawdzic ile stanow przyjmuje zmienna kategoryczna, oraz czy wszystkie stany sa poprawne."
   ]
  },
  {
   "cell_type": "code",
   "execution_count": null,
   "metadata": {},
   "outputs": [],
   "source": [
    "import pandas as pd\n",
    "\n",
    "print(pd.crosstab(index=data[\"Embarked\"], columns=\"Count\"))"
   ]
  },
  {
   "cell_type": "markdown",
   "metadata": {},
   "source": [
    "Tabele czestosci moga zawierac puste dane."
   ]
  },
  {
   "cell_type": "code",
   "execution_count": null,
   "metadata": {},
   "outputs": [],
   "source": [
    "print(data.Embarked.isnull().sum())"
   ]
  },
  {
   "cell_type": "markdown",
   "metadata": {},
   "source": [
    "# Entropia\n",
    "\n",
    "Entropia to miara informacji zawartej w zmiennej. Zmierzenie entropii zmiennej pozwala ocenic jej przydatnosc dla modeli uczenia predykcyjnego."
   ]
  }
 ],
 "metadata": {
  "interpreter": {
   "hash": "c0394993702810e63cf4a2cb4306f486c4e50bf3299d5af3d2bf38c01a54e229"
  },
  "kernelspec": {
   "display_name": "Python 3.9.7 ('venv': venv)",
   "language": "python",
   "name": "python3"
  },
  "language_info": {
   "codemirror_mode": {
    "name": "ipython",
    "version": 3
   },
   "file_extension": ".py",
   "mimetype": "text/x-python",
   "name": "python",
   "nbconvert_exporter": "python",
   "pygments_lexer": "ipython3",
   "version": "3.9.7"
  },
  "orig_nbformat": 4
 },
 "nbformat": 4,
 "nbformat_minor": 2
}
