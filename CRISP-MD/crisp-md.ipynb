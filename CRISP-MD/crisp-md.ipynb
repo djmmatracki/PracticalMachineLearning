{
 "cells": [
  {
   "cell_type": "markdown",
   "metadata": {},
   "source": [
    "# Metodyka CRSIP-MD\n",
    "\n",
    "Etapy metodyki crisp-md:\n",
    "\n",
    "- Zrozumienie problemu (Okreslenie celow)\n",
    "- Zrozumienie danych (Zebranie i ocena danych)\n",
    "- Wstepne przetwarzanie danych (Wstepne prztwarzanie danych)\n",
    "- Modelowanie (Wzbogacenie danych, zbudowanie modelu i wyciagniecie wnioskow)\n",
    "- Ocena (Ocena modelu i wnioskow)\n",
    "- Wdrazanie (Zastosowanie wnioskow w praktyce)"
   ]
  },
  {
   "cell_type": "markdown",
   "metadata": {},
   "source": [
    "# Metodyka TDSP (Team Data Science Process)\n",
    "\n",
    "Jest ona zgodna z metodyka CRISP-MD ale kladzie nacisk na prace w grupie. Zwraca ona uwage na dokladne opisywanie kazdego etapu. Kolejne etapy:\n",
    "\n",
    "- zrozumienie problemu\n",
    "- zdobycie i zrozumienie danych\n",
    "- modelowanie\n",
    "- wdrozenie"
   ]
  }
 ],
 "metadata": {
  "language_info": {
   "name": "python"
  },
  "orig_nbformat": 4
 },
 "nbformat": 4,
 "nbformat_minor": 2
}
